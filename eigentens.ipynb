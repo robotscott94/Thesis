{
 "cells": [
  {
   "cell_type": "code",
   "execution_count": 5,
   "metadata": {},
   "outputs": [],
   "source": [
    "#Import Packages\n",
    "\n",
    "%matplotlib inline\n",
    "from matplotlib import pyplot as plt\n",
    "\n",
    "import numpy as np\n",
    "import pandas as pd\n",
    "import networkx as nx\n",
    "import torch\n",
    "import kornia\n",
    "import scipy.sparse\n",
    "import os\n",
    "from scipy.sparse.linalg import spsolve, cg\n",
    "np.set_printoptions(threshold=np.inf)\n",
    "\n",
    "import tensorly as tl\n",
    "from numpy.linalg import matrix_power"
   ]
  },
  {
   "cell_type": "markdown",
   "metadata": {},
   "source": [
    "Consider the directed graph $DG$. "
   ]
  },
  {
   "cell_type": "code",
   "execution_count": 6,
   "metadata": {},
   "outputs": [
    {
     "data": {
      "image/png": "[encoded data removed]",
      "text/plain": [
       "<Figure size 432x288 with 1 Axes>"
      ]
     },
     "metadata": {},
     "output_type": "display_data"
    }
   ],
   "source": [
    "DG = nx.DiGraph()\n",
    "DG.add_edges_from([(1,2), (2,1), (2,3), (3,2), (3,4), (4,3), (4,1), (1,4), (1,3)])\n",
    "nx.draw(DG, node_size = 900, node_color = 'yellow', with_labels = True)"
   ]
  },
  {
   "cell_type": "markdown",
   "metadata": {},
   "source": [
    "The incidence matrix $DG$ is a function that maps vertices to edges. The incidence matrix for this example is\n",
    "$$ S =\n",
    "\\begin{bmatrix}\n",
    "% 1   2   3   4  \n",
    " -1 & 1 & 0 & 0 \\\\ \n",
    " 0 & -1 & 1 & 0 \\\\\n",
    " 0 & 0 & -1 & 1 \\\\\n",
    " -1 & 0 & 0 & 1 \\\\\n",
    " 1 & -1 & 0 & 0 \\\\ \n",
    " 0 & 1 & -1 & 0 \\\\\n",
    " 0 & 0 & 1 & -1 \\\\\n",
    " 1 & 0 & 0 & -1 \\\\\n",
    " -1 & 0 & 1 & 0 \\\\\n",
    "\\end{bmatrix}\n",
    "$$\n",
    "where the columns represent vertices and the rows represent edges."
   ]
  },
  {
   "cell_type": "markdown",
   "metadata": {},
   "source": [
    "A weight matrix maps edges to edges and can be represented for this graph as\n",
    "$$\n",
    "W = \\begin{bmatrix}\n",
    "w_1 & 0 & 0 & 0 & 0 & 0 & 0 & 0 & 0 \\\\\n",
    "0 & w_2 & 0 & 0 & 0 & 0 & 0 & 0 & 0 \\\\\n",
    "0 & 0 & w_3 & 0 & 0 & 0 & 0 & 0 & 0 \\\\\n",
    "0 & 0 & 0 & w_4 & 0 & 0 & 0 & 0 & 0 \\\\\n",
    "0 & 0 & 0 & 0 & w_5 & 0 & 0 & 0 & 0 \\\\\n",
    "0 & 0 & 0 & 0 & 0 & w_6 & 0 & 0 & 0 \\\\\n",
    "0 & 0 & 0 & 0 & 0 & 0 & w_7 & 0 & 0 \\\\\n",
    "0 & 0 & 0 & 0 & 0 & 0 & 0 & w_8 & 0 \\\\\n",
    "0 & 0 & 0 & 0 & 0 & 0 & 0 & 0 & w_9 \\\\\n",
    "\\end{bmatrix}.\n",
    "$$ \n",
    "The Laplacian in this case is represented as $L = S^T W S$. If $W$ is an identity matrix then $S^T S = L = V\\Sigma^2 V^T$ and $S = U \\Sigma V^T$."
   ]
  },
  {
   "cell_type": "markdown",
   "metadata": {},
   "source": [
    "If each vertex is represented by a vector, the weight matrix would be\n",
    "$$\n",
    "W = \\begin{bmatrix}\n",
    "[W_1] & 0 & 0 & 0 & 0 & 0 & 0 & 0 & 0 \\\\\n",
    "0 & [W_2] & 0 & 0 & 0 & 0 & 0 & 0 & 0 \\\\\n",
    "0 & 0 & [W_3] & 0 & 0 & 0 & 0 & 0 & 0 \\\\\n",
    "0 & 0 & 0 & [W_4] & 0 & 0 & 0 & 0 & 0 \\\\\n",
    "0 & 0 & 0 & 0 & [W_5] & 0 & 0 & 0 & 0 \\\\\n",
    "0 & 0 & 0 & 0 & 0 & [W_6] & 0 & 0 & 0 \\\\\n",
    "0 & 0 & 0 & 0 & 0 & 0 & [W_7] & 0 & 0 \\\\\n",
    "0 & 0 & 0 & 0 & 0 & 0 & 0 & [W_8] & 0 \\\\\n",
    "0 & 0 & 0 & 0 & 0 & 0 & 0 & 0 & [W_9] \\\\\n",
    "\\end{bmatrix}\n",
    "$$ where each $W_n$ is a square $n\\times n$ matrix in which $n$ is the size of the vertex vectors. Furthermore, each $W_i$ should be positive definite."
   ]
  },
  {
   "cell_type": "markdown",
   "metadata": {},
   "source": [
    "Probability matrix and a random walk on $DG$ is\n",
    "\n",
    "$$P = \n",
    "\\begin{bmatrix}\n",
    "P_{11} & P_{12} & P_{13} & P_{14} \\\\\n",
    "P_{21} & P_{22} & P_{23} & 0 \\\\\n",
    "0 & P_{32} & P_{33} & P_{34} \\\\\n",
    "P_{41} & 0 & P_{43} & P_{44} \\\\\n",
    "\\end{bmatrix}\n",
    "$$\n",
    "\n",
    "where each row adds to 1. A natural random walk means each row has the same probability entries. Hence,\n",
    "\n",
    "$$P_{natural} = \n",
    "\\begin{bmatrix}\n",
    "1/4 & 1/4 & 1/4 & 1/4 \\\\\n",
    "1/3 & 1/3 & 1/3 & 0 \\\\\n",
    "0 & 1/3 & 1/3 & 1/3 \\\\\n",
    "1/3 & 0 & 1/3 & 1/3 \\\\\n",
    "\\end{bmatrix}\n",
    "$$"
   ]
  },
  {
   "cell_type": "markdown",
   "metadata": {},
   "source": [
    "Adjacency matrix for a random walk:\n",
    "\n",
    "$$A = \n",
    "\\begin{bmatrix}\n",
    "1 & 1 & 1 & 1 \\\\\n",
    "1 & 1 & 1 & 0 \\\\\n",
    "0 & 1 & 1 & 1 \\\\\n",
    "1 & 0 & 1 & 1 \\\\\n",
    "\\end{bmatrix}\n",
    "$$"
   ]
  },
  {
   "cell_type": "markdown",
   "metadata": {},
   "source": [
    "Degree matrix for a random walk:\n",
    "\n",
    "$$D = \n",
    "\\begin{bmatrix}\n",
    "4 & 0 & 0 & 0 \\\\\n",
    "0 & 3 & 0 & 0 \\\\\n",
    "0 & 0 & 3 & 0 \\\\\n",
    "0 & 0 & 0 & 3 \\\\\n",
    "\\end{bmatrix}\n",
    "$$\n",
    "These degree matrices are one higher than expected since each step includes the possibility of staying at the node."
   ]
  },
  {
   "cell_type": "markdown",
   "metadata": {},
   "source": [
    "Thus, we get a Laplacian matrix \n",
    "$$D - A =\n",
    "\\begin{bmatrix}\n",
    "3 & -1 & -1 & -1 \\\\\n",
    "-1 & 2 & -1 & 0 \\\\\n",
    "0 & -1 & 2 & -1 \\\\\n",
    "-1 & 0 & -1 & 2 \\\\\n",
    "\\end{bmatrix}.\n",
    "$$\n",
    "\n",
    "To get the matrix $P_{natural}$ we note that $P = D^{-1}A = D^{-1}(D-L) = I - D^{-1}L$."
   ]
  },
  {
   "cell_type": "code",
   "execution_count": 7,
   "metadata": {},
   "outputs": [],
   "source": [
    "Pnat = np.array([[1/4, 1/4, 1/4, 1/4],\n",
    "                 [1/3, 1/3, 1/3, 0],\n",
    "                 [0, 1/3, 1/3, 1/3],\n",
    "                 [1/3, 0, 1/3, 1/3]])\n",
    "\n",
    "A = np.array([[1, 1, 1, 1],\n",
    "                 [1, 1, 1, 0],\n",
    "                 [0, 1, 1, 1],\n",
    "                 [1, 0, 1, 1]])\n",
    "\n",
    "D = np.array([[4,0,0,0],\n",
    "                 [0,3,0,0],\n",
    "                 [0,0,3,0],\n",
    "                 [0,0,0,3]])\n",
    "Dinv = np.array([[1/4,0,0,0],\n",
    "                 [0,1/3,0,0],\n",
    "                 [0,0,1/3,0],\n",
    "                 [0,0,0,1/3]])\n",
    "L = D-A"
   ]
  },
  {
   "cell_type": "code",
   "execution_count": 8,
   "metadata": {},
   "outputs": [
    {
     "data": {
      "text/plain": [
       "(array([[0.25      , 0.25      , 0.25      , 0.25      ],\n",
       "        [0.33333333, 0.33333333, 0.33333333, 0.        ],\n",
       "        [0.        , 0.33333333, 0.33333333, 0.33333333],\n",
       "        [0.33333333, 0.        , 0.33333333, 0.33333333]]),\n",
       " array([[0.25      , 0.25      , 0.25      , 0.25      ],\n",
       "        [0.33333333, 0.33333333, 0.33333333, 0.        ],\n",
       "        [0.        , 0.33333333, 0.33333333, 0.33333333],\n",
       "        [0.33333333, 0.        , 0.33333333, 0.33333333]]))"
      ]
     },
     "execution_count": 8,
     "metadata": {},
     "output_type": "execute_result"
    }
   ],
   "source": [
    "# returns Pnat\n",
    "Dinv @ A, np.eye(4) - Dinv @ L"
   ]
  },
  {
   "cell_type": "markdown",
   "metadata": {},
   "source": [
    "We can also obtain the Laplacian matrix from the probability matrix. Note $L = D(I-P)$."
   ]
  },
  {
   "cell_type": "code",
   "execution_count": 9,
   "metadata": {},
   "outputs": [
    {
     "data": {
      "text/plain": [
       "array([[ 3., -1., -1., -1.],\n",
       "       [-1.,  2., -1.,  0.],\n",
       "       [ 0., -1.,  2., -1.],\n",
       "       [-1.,  0., -1.,  2.]])"
      ]
     },
     "execution_count": 9,
     "metadata": {},
     "output_type": "execute_result"
    }
   ],
   "source": [
    "# returns L\n",
    "D @ (np.eye(4) - Pnat)"
   ]
  },
  {
   "cell_type": "markdown",
   "metadata": {},
   "source": [
    "Hence we have developed a relationship between the Laplacian and probability transition matrix."
   ]
  },
  {
   "cell_type": "markdown",
   "metadata": {},
   "source": [
    "Note that $P_{natural}$ is row stochastic meaning all rows sum to 1."
   ]
  },
  {
   "cell_type": "code",
   "execution_count": 20,
   "metadata": {},
   "outputs": [
    {
     "data": {
      "text/plain": [
       "array([[0.25      , 0.25      , 0.25      , 0.25      ],\n",
       "       [0.33333333, 0.33333333, 0.33333333, 0.        ],\n",
       "       [0.        , 0.33333333, 0.33333333, 0.33333333],\n",
       "       [0.33333333, 0.        , 0.33333333, 0.33333333]])"
      ]
     },
     "execution_count": 20,
     "metadata": {},
     "output_type": "execute_result"
    }
   ],
   "source": [
    "Pnat"
   ]
  },
  {
   "cell_type": "code",
   "execution_count": 10,
   "metadata": {},
   "outputs": [
    {
     "data": {
      "text/plain": [
       "array([1., 1., 1., 1.])"
      ]
     },
     "execution_count": 10,
     "metadata": {},
     "output_type": "execute_result"
    }
   ],
   "source": [
    "Pnat.sum(axis = 1)"
   ]
  },
  {
   "cell_type": "markdown",
   "metadata": {},
   "source": [
    "Hence, the columns of $P_{natural}$ will converge when high powers of the matrix are taken."
   ]
  },
  {
   "cell_type": "code",
   "execution_count": 30,
   "metadata": {},
   "outputs": [
    {
     "data": {
      "text/plain": [
       "array([[0.21052632, 0.23684211, 0.31578947, 0.23684211],\n",
       "       [0.21052632, 0.23684211, 0.31578947, 0.23684211],\n",
       "       [0.21052632, 0.23684211, 0.31578947, 0.23684211],\n",
       "       [0.21052632, 0.23684211, 0.31578947, 0.23684211]])"
      ]
     },
     "execution_count": 30,
     "metadata": {},
     "output_type": "execute_result"
    }
   ],
   "source": [
    "res = np.linalg.matrix_power(Pnat, 100000)\n",
    "res"
   ]
  },
  {
   "cell_type": "markdown",
   "metadata": {},
   "source": [
    "We get what seems to be the same eigenvector in each row of the resulting matrix."
   ]
  },
  {
   "cell_type": "code",
   "execution_count": 21,
   "metadata": {},
   "outputs": [
    {
     "data": {
      "text/plain": [
       "array([0.21052632, 0.23684211, 0.31578947, 0.23684211])"
      ]
     },
     "execution_count": 21,
     "metadata": {},
     "output_type": "execute_result"
    }
   ],
   "source": [
    "Pnat.T @ res[0,:]"
   ]
  },
  {
   "cell_type": "markdown",
   "metadata": {},
   "source": [
    "For a vector valued graph, our probability matrix will be a matrix of matrices. We check to see if the same principle applies."
   ]
  },
  {
   "cell_type": "code",
   "execution_count": 22,
   "metadata": {},
   "outputs": [
    {
     "data": {
      "text/plain": [
       "array([[0.25      , 0.        , 0.25      , 0.        , 0.25      ,\n",
       "        0.        , 0.25      , 0.        ],\n",
       "       [0.        , 0.25      , 0.        , 0.25      , 0.        ,\n",
       "        0.25      , 0.        , 0.25      ],\n",
       "       [0.33333333, 0.        , 0.33333333, 0.        , 0.33333333,\n",
       "        0.        , 0.        , 0.        ],\n",
       "       [0.        , 0.33333333, 0.        , 0.33333333, 0.        ,\n",
       "        0.33333333, 0.        , 0.        ],\n",
       "       [0.        , 0.        , 0.33333333, 0.        , 0.33333333,\n",
       "        0.        , 0.33333333, 0.        ],\n",
       "       [0.        , 0.        , 0.        , 0.33333333, 0.        ,\n",
       "        0.33333333, 0.        , 0.33333333],\n",
       "       [0.33333333, 0.        , 0.        , 0.        , 0.33333333,\n",
       "        0.        , 0.33333333, 0.        ],\n",
       "       [0.        , 0.33333333, 0.        , 0.        , 0.        ,\n",
       "        0.33333333, 0.        , 0.33333333]])"
      ]
     },
     "execution_count": 22,
     "metadata": {},
     "output_type": "execute_result"
    }
   ],
   "source": [
    "P2 = np.kron(Pnat, np.eye(2))\n",
    "P2"
   ]
  },
  {
   "cell_type": "code",
   "execution_count": 32,
   "metadata": {},
   "outputs": [
    {
     "data": {
      "text/plain": [
       "array([[0.        , 0.21052632, 0.        , 0.23684211, 0.        ,\n",
       "        0.31578947, 0.        , 0.23684211],\n",
       "       [0.        , 0.21052632, 0.        , 0.23684211, 0.        ,\n",
       "        0.31578947, 0.        , 0.23684211],\n",
       "       [0.        , 0.21052632, 0.        , 0.23684211, 0.        ,\n",
       "        0.31578947, 0.        , 0.23684211],\n",
       "       [0.        , 0.21052632, 0.        , 0.23684211, 0.        ,\n",
       "        0.31578947, 0.        , 0.23684211],\n",
       "       [0.        , 0.21052632, 0.        , 0.23684211, 0.        ,\n",
       "        0.31578947, 0.        , 0.23684211],\n",
       "       [0.        , 0.21052632, 0.        , 0.23684211, 0.        ,\n",
       "        0.31578947, 0.        , 0.23684211],\n",
       "       [0.        , 0.21052632, 0.        , 0.23684211, 0.        ,\n",
       "        0.31578947, 0.        , 0.23684211],\n",
       "       [0.        , 0.21052632, 0.        , 0.23684211, 0.        ,\n",
       "        0.31578947, 0.        , 0.23684211]])"
      ]
     },
     "execution_count": 32,
     "metadata": {},
     "output_type": "execute_result"
    }
   ],
   "source": [
    "res2 = np.linalg.matrix_power(P2, 1000000)\n",
    "res2"
   ]
  },
  {
   "cell_type": "markdown",
   "metadata": {},
   "source": [
    "Even if we change a few of the matrices to allow for mixing at a node, high powers of the matrix still converge."
   ]
  },
  {
   "cell_type": "code",
   "execution_count": 24,
   "metadata": {},
   "outputs": [
    {
     "data": {
      "text/plain": [
       "array([1., 1., 1., 1., 1., 1., 1., 1.])"
      ]
     },
     "execution_count": 24,
     "metadata": {},
     "output_type": "execute_result"
    }
   ],
   "source": [
    "P2[0,1] = 0.05 \n",
    "P2[0,0] = 0.2\n",
    "P3 = P2\n",
    "P3.sum(axis = 1)"
   ]
  },
  {
   "cell_type": "code",
   "execution_count": 25,
   "metadata": {},
   "outputs": [
    {
     "data": {
      "text/plain": [
       "array([[0.00121253, 0.20931379, 0.00143668, 0.23540543, 0.00192045,\n",
       "        0.31386902, 0.00143668, 0.23540543],\n",
       "       [0.        , 0.21052632, 0.        , 0.23684211, 0.        ,\n",
       "        0.31578947, 0.        , 0.23684211],\n",
       "       [0.00127054, 0.20925578, 0.00150541, 0.2353367 , 0.00201233,\n",
       "        0.31377715, 0.00150541, 0.2353367 ],\n",
       "       [0.        , 0.21052632, 0.        , 0.23684211, 0.        ,\n",
       "        0.31578947, 0.        , 0.23684211],\n",
       "       [0.00129007, 0.20923625, 0.00152855, 0.23531356, 0.00204326,\n",
       "        0.31374621, 0.00152855, 0.23531356],\n",
       "       [0.        , 0.21052632, 0.        , 0.23684211, 0.        ,\n",
       "        0.31578947, 0.        , 0.23684211],\n",
       "       [0.00127054, 0.20925578, 0.00150541, 0.2353367 , 0.00201233,\n",
       "        0.31377715, 0.00150541, 0.2353367 ],\n",
       "       [0.        , 0.21052632, 0.        , 0.23684211, 0.        ,\n",
       "        0.31578947, 0.        , 0.23684211]])"
      ]
     },
     "execution_count": 25,
     "metadata": {},
     "output_type": "execute_result"
    }
   ],
   "source": [
    "res3 = np.linalg.matrix_power(P3, 500)\n",
    "res3"
   ]
  },
  {
   "cell_type": "code",
   "execution_count": 26,
   "metadata": {},
   "outputs": [
    {
     "data": {
      "text/plain": [
       "(array([0.00121253, 0.20931379, 0.00143668, 0.23540543, 0.00192045,\n",
       "        0.31386902, 0.00143668, 0.23540543]),\n",
       " array([0.        , 0.21052632, 0.        , 0.23684211, 0.        ,\n",
       "        0.31578947, 0.        , 0.23684211]))"
      ]
     },
     "execution_count": 26,
     "metadata": {},
     "output_type": "execute_result"
    }
   ],
   "source": [
    "res3[0,:], res3[1,:]"
   ]
  },
  {
   "cell_type": "code",
   "execution_count": 27,
   "metadata": {},
   "outputs": [
    {
     "data": {
      "text/plain": [
       "array([0.00120029, 0.20932602, 0.00142218, 0.23541993, 0.00190107,\n",
       "       0.31388841, 0.00142218, 0.23541993])"
      ]
     },
     "execution_count": 27,
     "metadata": {},
     "output_type": "execute_result"
    }
   ],
   "source": [
    "P3.T @ res3[0,:]"
   ]
  },
  {
   "cell_type": "code",
   "execution_count": 19,
   "metadata": {},
   "outputs": [
    {
     "data": {
      "text/plain": [
       "array([0.        , 0.21052632, 0.        , 0.23684211, 0.        ,\n",
       "       0.31578947, 0.        , 0.23684211])"
      ]
     },
     "execution_count": 19,
     "metadata": {},
     "output_type": "execute_result"
    }
   ],
   "source": [
    "P3.T @ res3[1,:]"
   ]
  },
  {
   "cell_type": "markdown",
   "metadata": {},
   "source": [
    "We actually appear to get two eigenvectors from raising the probability transition matrix a sufficient number of times..."
   ]
  }
 ],
 "metadata": {
  "kernelspec": {
   "display_name": "Python 3 (ipykernel)",
   "language": "python",
   "name": "python3"
  },
  "language_info": {
   "codemirror_mode": {
    "name": "ipython",
    "version": 3
   },
   "file_extension": ".py",
   "mimetype": "text/x-python",
   "name": "python",
   "nbconvert_exporter": "python",
   "pygments_lexer": "ipython3",
   "version": "3.9.13"
  }
 },
 "nbformat": 4,
 "nbformat_minor": 4
}

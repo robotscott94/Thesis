{
 "cells": [
  {
   "cell_type": "markdown",
   "metadata": {},
   "source": [
    "The Network Laplacian is a representation of a graph, but the Laplacian operates on the $n$-dimensional vector space of functions \n",
    "$$f : V\\to\\mathbb{R} .$$\n",
    "\n",
    "Consider the tensor space\n",
    "$$ \\mathcal{L}^2 (G,V) = \\{f:G\\to V\\} $$\n",
    "and note that $f$ is a vector valued function space:\n",
    "$$f = \\begin{bmatrix} f(g_1) \\\\ \\vdots \\\\ f(g_n)   \\end{bmatrix}\n",
    "= \\begin{bmatrix} \\vec{v_1} \\\\ \\vdots \\\\ \\vec{v_n}   \\end{bmatrix} . $$\n",
    "Furthermore, there exists some matrix $A$ for which:\n",
    "$$Af = \n",
    "\\begin{bmatrix}\n",
    "A_{11} & \\cdots & A_{1n} \\\\\n",
    "\\vdots & \\ddots & \\vdots \\\\\n",
    "A_{n1} & \\cdots & A_{nn} \\\\\n",
    "\\end{bmatrix}\n",
    "\\begin{bmatrix}\n",
    "\\vec{v_1} \\\\\n",
    "\\vdots \\\\\n",
    "\\vec{v_n}\n",
    "\\end{bmatrix}.$$\n",
    "\n",
    "For transformations between these spaces on $\\mathbb{R}$, $A$ is just a matrix. However, transformations on $\\mathbb{R}^m$ is a block matrix or a matrix of matrices.\n",
    "\n",
    "Consider some undirected graph $G$:"
   ]
  },
  {
   "cell_type": "code",
   "execution_count": 2,
   "metadata": {},
   "outputs": [],
   "source": [
    "#Import Packages\n",
    "\n",
    "%matplotlib inline\n",
    "from matplotlib import pyplot as plt\n",
    "\n",
    "import numpy as np\n",
    "import pandas as pd\n",
    "import torch\n",
    "import kornia\n",
    "import scipy.sparse\n",
    "import os\n",
    "from scipy.sparse.linalg import spsolve, cg"
   ]
  },
  {
   "cell_type": "code",
   "execution_count": 3,
   "metadata": {},
   "outputs": [
    {
     "name": "stdout",
     "output_type": "stream",
     "text": [
      "Nodes of graph: \n",
      "[1, 2, 3, 4]\n",
      "Edges of graph: \n",
      "[(1, 2), (1, 4), (2, 3), (3, 4)]\n"
     ]
    },
    {
     "data": {
      "image/png": "[encoded data removed]",
      "text/plain": [
       "<Figure size 432x288 with 1 Axes>"
      ]
     },
     "metadata": {},
     "output_type": "display_data"
    }
   ],
   "source": [
    "from matplotlib import pyplot as plt\n",
    "import networkx as nx\n",
    "G=nx.Graph()\n",
    "\n",
    "# adding nodes\n",
    "# G.add_nodes_from([1,4])\n",
    "\n",
    "G.add_edge(1,2)\n",
    "G.add_edge(2,3)\n",
    "G.add_edge(3,4)\n",
    "G.add_edge(4,1)\n",
    "\n",
    "print(\"Nodes of graph: \")\n",
    "print(G.nodes())\n",
    "print(\"Edges of graph: \")\n",
    "print(G.edges())\n",
    "\n",
    "nx.draw(G)\n",
    "plt.show(G)"
   ]
  },
  {
   "cell_type": "markdown",
   "metadata": {},
   "source": [
    "Note that the Network Laplacian is $L = D-A$ where $D$ is the degree matrix and $A$ is the adjacency matrix. For this graph $G$ we get\n",
    "\n",
    "$$  D = \n",
    "\\begin{bmatrix} \n",
    "2 & 0 & 0 & 0 \\\\\n",
    "0 & 2 & 0 & 0 \\\\\n",
    "0 & 0 & 2 & 0 \\\\\n",
    "0 & 0 & 0 & 2 \\\\\n",
    "\\end{bmatrix} \\mbox{ and }\n",
    "A = \n",
    "\\begin{bmatrix} \n",
    "0 & 1 & 0 & 1 \\\\\n",
    "1 & 0 & 1 & 0 \\\\\n",
    "0 & 1 & 0 & 1 \\\\\n",
    "1 & 0 & 1 & 0 \\\\\n",
    "\\end{bmatrix} .$$\n",
    "\n",
    "Hence, the Network Laplacian for graph $G$ is \n",
    "\n",
    "$$ L = D-A = \n",
    "\\begin{bmatrix} \n",
    "2 & -1 & 0 & -1 \\\\\n",
    "-1 & 2 & -1 & 0 \\\\\n",
    "0 & -1 & 2 & -1 \\\\\n",
    "-1 & 0 & -1 & 2 \\\\\n",
    "\\end{bmatrix} .$$\n",
    "\n",
    "The case in which each node is mapped to a value in $\\mathbb{R}$ is shown below. The Network Laplacian is calculated for G."
   ]
  },
  {
   "cell_type": "code",
   "execution_count": 4,
   "metadata": {},
   "outputs": [
    {
     "data": {
      "text/plain": [
       "array([[11],\n",
       "       [10],\n",
       "       [10],\n",
       "       [10]])"
      ]
     },
     "execution_count": 4,
     "metadata": {},
     "output_type": "execute_result"
    }
   ],
   "source": [
    "import numpy as np\n",
    "# Can input any values for a, c, b, d\n",
    "a = 11\n",
    "b = 10\n",
    "c = 10\n",
    "d = 10\n",
    "regvec = np.array([[a, b, c, d]])\n",
    "regvec = regvec.T\n",
    "regvec"
   ]
  },
  {
   "cell_type": "code",
   "execution_count": 5,
   "metadata": {},
   "outputs": [
    {
     "data": {
      "text/plain": [
       "array([[ 2, -1,  0, -1],\n",
       "       [-1,  2, -1,  0],\n",
       "       [ 0, -1,  2, -1],\n",
       "       [-1,  0, -1,  2]])"
      ]
     },
     "execution_count": 5,
     "metadata": {},
     "output_type": "execute_result"
    }
   ],
   "source": [
    "matrixLap = np.block([[2, -1, 0, -1],\n",
    "                    [-1, 2, -1, 0],\n",
    "                    [0, -1, 2, -1],\n",
    "                    [-1, 0, -1, 2],])\n",
    "matrixLap"
   ]
  },
  {
   "cell_type": "code",
   "execution_count": 6,
   "metadata": {},
   "outputs": [
    {
     "data": {
      "text/plain": [
       "array([[ 2],\n",
       "       [-1],\n",
       "       [ 0],\n",
       "       [-1]])"
      ]
     },
     "execution_count": 6,
     "metadata": {},
     "output_type": "execute_result"
    }
   ],
   "source": [
    "# Regular Laplacian for normal graph G\n",
    "matrixLap @ regvec"
   ]
  },
  {
   "cell_type": "markdown",
   "metadata": {},
   "source": [
    "The case in which we are interested occurs when each node is a vector in $\\mathbb{R}^n$ mapped to another vector in $\\mathbb{R}^n$. The Laplacian can be thought of as a function $f\\in \\mathcal{L}(G,\\mathbb{R}^2)$ where $A:\\mathcal{L}(G,\\mathbb{R}^2)\\to\\mathcal{L}(G,\\mathbb{R}^2)$. Furthermore, $f$ is an 8-dimensional function where \n",
    "$$f = \\begin{bmatrix}\n",
    "\\vec{v_1} \\\\\n",
    "\\vec{v_2} \\\\\n",
    "\\vec{v_3} \\\\\n",
    "\\vec{v_4} \\\\\n",
    "\\end{bmatrix},\n",
    "\\vec{v_j} = \n",
    "\\begin{bmatrix}\n",
    "x_j \\\\\n",
    "y_j \\\\\n",
    "\\end{bmatrix}.$$"
   ]
  },
  {
   "cell_type": "markdown",
   "metadata": {},
   "source": [
    "For the linear transformation on this space, we have\n",
    "$$Af = \n",
    "\\begin{bmatrix}\n",
    "A_{11} & A_{12} & A_{13} & A_{14} \\\\\n",
    "A_{21} & A_{22} & A_{23} & A_{24} \\\\\n",
    "A_{31} & A_{32} & A_{33} & A_{34} \\\\\n",
    "A_{41} & A_{42} & A_{43} & A_{44} \\\\\n",
    "\\end{bmatrix}\n",
    "\\begin{bmatrix}\n",
    "\\vec{v_1} \\\\\n",
    "\\vec{v_2} \\\\\n",
    "\\vec{v_3} \\\\\n",
    "\\vec{v_4} \\\\\n",
    "\\end{bmatrix} =\n",
    "\\begin{bmatrix}\n",
    "A_{11}\\vec{v}_1 + A_{12}\\vec{v}_2 + A_{13}\\vec{v}_3 + A_{14}\\vec{v}_4 \\\\\n",
    "A_{21}\\vec{v}_1 + A_{22}\\vec{v}_2 + A_{23}\\vec{v}_3 + A_{24}\\vec{v}_4 \\\\\n",
    "A_{31}\\vec{v}_1 + A_{32}\\vec{v}_2 + A_{33}\\vec{v}_3 + A_{34}\\vec{v}_4 \\\\\n",
    "A_{41}\\vec{v}_1 + A_{42}\\vec{v}_2 + A_{43}\\vec{v}_3 + A_{44}\\vec{v}_4 \\\\\n",
    "\\end{bmatrix}\n",
    "$$\n",
    "<!-- $$\n",
    "= \\begin{bmatrix}\n",
    "\\begin{bmatrix} a_{11} & b_{11} \\\\ c_{11} & d_{11} \\end{bmatrix}\n",
    "& \\begin{bmatrix} a_{12} & b_{12} \\\\ c_{12} & d_{12} \\end{bmatrix} \n",
    "& \\begin{bmatrix} a_{13} & b_{13} \\\\ c_{13} & d_{13} \\end{bmatrix}\n",
    "& \\begin{bmatrix} a_{14} & b_{14} \\\\ c_{14} & d_{14} \\end{bmatrix}           \\\\\n",
    "\\begin{bmatrix} a_{21} & b_{21} \\\\ c_{21} & d_{21} \\end{bmatrix} & \\begin{bmatrix} a_{22} & b_{22} \\\\ c_{22} & d_{22} \\end{bmatrix} \n",
    "& \\begin{bmatrix} a_{23} & b_{23} \\\\ c_{23} & d_{23} \\end{bmatrix}\n",
    "& \\begin{bmatrix} a_{24} & b_{24} \\\\ c_{24} & d_{24} \\end{bmatrix}           \\\\\n",
    "\\begin{bmatrix} a_{31} & b_{31} \\\\ c_{31} & d_{31} \\end{bmatrix}& \\begin{bmatrix} a_{32} & b_{32} \\\\ c_{32} & d_{32} \\end{bmatrix} \n",
    "& \\begin{bmatrix} a_{33} & b_{33} \\\\ c_{33} & d_{33} \\end{bmatrix}\n",
    "& \\begin{bmatrix} a_{34} & b_{34} \\\\ c_{34} & d_{34} \\end{bmatrix}           \\\\\n",
    "\\begin{bmatrix} a_{41} & b_{41} \\\\ c_{41} & d_{41} \\end{bmatrix} & \\begin{bmatrix} a_{42} & b_{42} \\\\ c_{42} & d_{42} \\end{bmatrix} \n",
    "& \\begin{bmatrix} a_{43} & b_{43} \\\\ c_{43} & d_{43} \\end{bmatrix}\n",
    "& \\begin{bmatrix} a_{44} & b_{44} \\\\ c_{44} & d_{44} \\end{bmatrix}           \\\\\n",
    "\\end{bmatrix}\n",
    "\\begin{bmatrix}\n",
    "\\begin{bmatrix} x_1 \\\\ y_1 \\end{bmatrix}   \\\\   \\begin{bmatrix} x_2 \\\\ y_2 \\end{bmatrix} \\\\\n",
    "\\begin{bmatrix} x_3 \\\\ y_3 \\end{bmatrix}   \\\\   \\begin{bmatrix} x_4 \\\\ y_4 \\end{bmatrix}\n",
    "\\end{bmatrix}\n",
    "$$\n",
    "\n",
    "$$A_{11} \\otimes \\begin{bmatrix}\n",
    "1 & 0 & 0 & 0 \\\\\n",
    "0 & 0 & 0 & 0 \\\\\n",
    "0 & 0 & 0 & 0 \\\\\n",
    "0 & 0 & 0 & 0 \\\\\n",
    "\\end{bmatrix}  + A_{12} \\otimes \\begin{bmatrix}\n",
    "0 & 1 & 0 & 0 \\\\\n",
    "0 & 0 & 0 & 0 \\\\\n",
    "0 & 0 & 0 & 0 \\\\\n",
    "0 & 0 & 0 & 0 \\\\\n",
    "\\end{bmatrix} + \\ldots$$ -->\n",
    "\n",
    "\n"
   ]
  },
  {
   "cell_type": "markdown",
   "metadata": {},
   "source": [
    "The Laplacian \"smooths the given tensor with a laplacian kernel by convolving it to each channel. It supports batched operation.\" (kornia documentation)"
   ]
  },
  {
   "cell_type": "code",
   "execution_count": 7,
   "metadata": {},
   "outputs": [
    {
     "data": {
      "text/plain": [
       "array([[1, 0, 0],\n",
       "       [0, 2, 0],\n",
       "       [0, 0, 3]])"
      ]
     },
     "execution_count": 7,
     "metadata": {},
     "output_type": "execute_result"
    }
   ],
   "source": [
    "np.diag([1,2,3])"
   ]
  },
  {
   "cell_type": "code",
   "execution_count": 8,
   "metadata": {},
   "outputs": [
    {
     "data": {
      "text/plain": [
       "(array([[0., 0., 0.],\n",
       "        [1., 0., 0.],\n",
       "        [0., 0., 0.]]),\n",
       " array([[2., 0.],\n",
       "        [0., 2.]]))"
      ]
     },
     "execution_count": 8,
     "metadata": {},
     "output_type": "execute_result"
    }
   ],
   "source": [
    "zr2 = np.zeros((3,3))\n",
    "zr2[1,0] = 1\n",
    "\n",
    "zr2, matrixLap[0,0]*np.identity(2)"
   ]
  },
  {
   "cell_type": "code",
   "execution_count": 9,
   "metadata": {},
   "outputs": [
    {
     "data": {
      "text/plain": [
       "array([[0., 0., 0., 0., 0., 0.],\n",
       "       [0., 0., 0., 0., 0., 0.],\n",
       "       [2., 0., 0., 0., 0., 0.],\n",
       "       [0., 2., 0., 0., 0., 0.],\n",
       "       [0., 0., 0., 0., 0., 0.],\n",
       "       [0., 0., 0., 0., 0., 0.]])"
      ]
     },
     "execution_count": 9,
     "metadata": {},
     "output_type": "execute_result"
    }
   ],
   "source": [
    "np.kron(zr2, matrixLap[0,0]*np.identity(2))"
   ]
  },
  {
   "cell_type": "code",
   "execution_count": 10,
   "metadata": {},
   "outputs": [
    {
     "data": {
      "text/plain": [
       "array([[ 2., -1.,  0., -1.],\n",
       "       [-1.,  2., -1.,  0.],\n",
       "       [ 0., -1.,  2., -1.],\n",
       "       [-1.,  0., -1.,  2.]])"
      ]
     },
     "execution_count": 10,
     "metadata": {},
     "output_type": "execute_result"
    }
   ],
   "source": [
    "def KronTensorDecomp(nodes, dim, regularLap):\n",
    "    matlist = []\n",
    "    for i in range(nodes):\n",
    "        for j in range(nodes):\n",
    "            zer = np.zeros((nodes,nodes))\n",
    "            zer[i,j] = 1\n",
    "            section = np.kron(zer,(regularLap[i,j]*np.identity(dim)))\n",
    "            matlist.append(section)\n",
    "    Ak = np.zeros((section.shape))        \n",
    "    for k in range(nodes*nodes):\n",
    "        Ak = Ak + matlist[k]\n",
    "    return  Ak\n",
    "    \n",
    "x12 = KronTensorDecomp(4, 1, matrixLap)\n",
    "x12"
   ]
  },
  {
   "cell_type": "code",
   "execution_count": null,
   "metadata": {},
   "outputs": [],
   "source": []
  },
  {
   "cell_type": "code",
   "execution_count": null,
   "metadata": {},
   "outputs": [],
   "source": []
  },
  {
   "cell_type": "code",
   "execution_count": null,
   "metadata": {},
   "outputs": [],
   "source": []
  }
 ],
 "metadata": {
  "kernelspec": {
   "display_name": "Python 3 (ipykernel)",
   "language": "python",
   "name": "python3"
  },
  "language_info": {
   "codemirror_mode": {
    "name": "ipython",
    "version": 3
   },
   "file_extension": ".py",
   "mimetype": "text/x-python",
   "name": "python",
   "nbconvert_exporter": "python",
   "pygments_lexer": "ipython3",
   "version": "3.9.13"
  }
 },
 "nbformat": 4,
 "nbformat_minor": 4
}
